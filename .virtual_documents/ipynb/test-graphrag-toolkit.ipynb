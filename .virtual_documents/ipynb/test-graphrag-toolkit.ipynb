%load_ext autoreload
%autoreload 2
%load_ext jupyter_black


import nest_asyncio
from graphrag_toolkit import LexicalGraphIndex
from graphrag_toolkit.storage import GraphStoreFactory
from graphrag_toolkit.storage import VectorStoreFactory
from llama_index.readers.web import SimpleWebPageReader


nest_asyncio.apply()


GRAPH_STORE = "neptune-db://paper-bridge-dev-cluster.cluster-cxdyh6rlpmuz.ap-northeast-2.neptune.amazonaws.com"
VECTOR_STORE = "aoss://https://unss427wx6qk1eqp5h97.ap-northeast-2.aoss.amazonaws.com"


graph_store = GraphStoreFactory.for_graph_store(GRAPH_STORE)
graph_index = LexicalGraphIndex(
    graph_store
)


graph_store = GraphStoreFactory.for_graph_store(GRAPH_STORE)
vector_store = VectorStoreFactory.for_vector_store(VECTOR_STORE)

graph_index = LexicalGraphIndex(
    graph_store, 
    vector_store
)

doc_urls = [
    'https://docs.aws.amazon.com/neptune/latest/userguide/intro.html',
    'https://docs.aws.amazon.com/neptune-analytics/latest/userguide/what-is-neptune-analytics.html',
    'https://docs.aws.amazon.com/neptune-analytics/latest/userguide/neptune-analytics-features.html',
    'https://docs.aws.amazon.com/neptune-analytics/latest/userguide/neptune-analytics-vs-neptune-database.html'
]

docs = SimpleWebPageReader(
    html_to_text=True,
    metadata_fn=lambda url:{'url': url}
).load_data(doc_urls)

graph_index.extract_and_build(docs, show_progress=True)

print('Complete')



