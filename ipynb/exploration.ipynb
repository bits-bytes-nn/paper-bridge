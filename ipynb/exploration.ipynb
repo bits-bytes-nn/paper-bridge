{
 "cells": [
  {
   "cell_type": "code",
   "execution_count": 1,
   "id": "e569ed81-662c-46f8-b7de-c49c7a2ae906",
   "metadata": {},
   "outputs": [],
   "source": [
    "%load_ext autoreload\n",
    "%autoreload 2\n",
    "%load_ext jupyter_black"
   ]
  },
  {
   "cell_type": "code",
   "execution_count": 13,
   "id": "47635f50",
   "metadata": {},
   "outputs": [],
   "source": [
    "import sys\n",
    "from pathlib import Path\n",
    "from pprint import pprint\n",
    "from typing import Any, Dict, Optional\n",
    "from datetime import datetime\n",
    "import re\n",
    "import boto3\n",
    "\n",
    "sys.path.append(str(Path.cwd().parent))\n",
    "from paper_bridge.indexer.configs import Config\n",
    "from paper_bridge.indexer.src import (\n",
    "    EnvVars,\n",
    "    NeptuneClient,\n",
    "    OpenSearchClient,\n",
    "    get_ssm_param_value,\n",
    ")"
   ]
  },
  {
   "cell_type": "code",
   "execution_count": 3,
   "id": "a595925f",
   "metadata": {},
   "outputs": [
    {
     "name": "stdout",
     "output_type": "stream",
     "text": [
      "Neptune endpoint: paper-bridge-dev.cluster-cyq3catzzgsc.us-west-2.neptune.amazonaws.com\n",
      "OpenSearch endpoint: https://e8ry2xvp7na4j1lz2e82.us-west-2.aoss.amazonaws.com\n"
     ]
    }
   ],
   "source": [
    "config = Config.load()\n",
    "profile_name = EnvVars.AWS_PROFILE_NAME.value\n",
    "boto3_session = boto3.Session(\n",
    "    region_name=config.resources.default_region_name, profile_name=profile_name\n",
    ")\n",
    "\n",
    "neptune_endpoint = get_ssm_param_value(\n",
    "    boto3_session,\n",
    "    f\"/{config.resources.project_name}-{config.resources.stage}/neptune/endpoint\",\n",
    ")\n",
    "open_search_endpoint = get_ssm_param_value(\n",
    "    boto3_session,\n",
    "    f\"/{config.resources.project_name}-{config.resources.stage}/opensearch/endpoint\",\n",
    ")\n",
    "\n",
    "print(\n",
    "    f\"Neptune endpoint: {neptune_endpoint}\\nOpenSearch endpoint: {open_search_endpoint}\"\n",
    ")\n",
    "\n",
    "neptune_client = NeptuneClient(neptune_endpoint)\n",
    "open_search_clients = [\n",
    "    OpenSearchClient(\n",
    "        host=open_search_endpoint.replace(\"http://\", \"\").replace(\"https://\", \"\"),\n",
    "        port=443,\n",
    "        index=index,\n",
    "        region_name=config.resources.default_region_name,\n",
    "        boto3_session=boto3_session,\n",
    "    )\n",
    "    for index in [\"chunk\", \"statement\"]\n",
    "]"
   ]
  },
  {
   "cell_type": "markdown",
   "id": "02d7e639-5d57-4ec9-a60b-45f113126bbc",
   "metadata": {},
   "source": [
    "### Paper Count by Date"
   ]
  },
  {
   "cell_type": "code",
   "execution_count": 34,
   "id": "1b641707-cbbc-4c11-89d6-cde41d7c8f47",
   "metadata": {},
   "outputs": [
    {
     "name": "stdout",
     "output_type": "stream",
     "text": [
      "[{'2025-02-10': 3},\n",
      " {'2025-02-11': 3},\n",
      " {'2025-02-12': 3},\n",
      " {'2025-02-13': 3},\n",
      " {'2025-02-14': 3},\n",
      " {'2025-02-17': 3},\n",
      " {'2025-02-18': 3},\n",
      " {'2025-02-19': 3},\n",
      " {'2025-02-20': 2},\n",
      " {'2025-02-21': 3},\n",
      " {'2025-02-24': 3},\n",
      " {'2025-02-25': 3},\n",
      " {'2025-02-26': 3},\n",
      " {'2025-02-27': 3},\n",
      " {'2025-02-28': 3},\n",
      " {'2025-03-03': 3},\n",
      " {'2025-03-04': 3},\n",
      " {'2025-03-05': 3},\n",
      " {'2025-03-06': 3},\n",
      " {'2025-03-07': 3},\n",
      " {'2025-03-09': 2}]\n"
     ]
    }
   ],
   "source": [
    "query = \"\"\"\n",
    "g.V().hasLabel('__Source__')\n",
    "  .group()\n",
    "    .by('base_date')\n",
    "    .by(values('paper_id').dedup().count())\n",
    "  .unfold()\n",
    "  .order().by(keys, asc)\n",
    "  .fold()\n",
    "\"\"\"\n",
    "result = neptune_client.client.submit(query).all().result()\n",
    "\n",
    "pprint(result[0])"
   ]
  },
  {
   "cell_type": "code",
   "execution_count": 39,
   "id": "d958d083",
   "metadata": {},
   "outputs": [],
   "source": [
    "def get_paper_id_count_by_date(client: OpenSearchClient) -> Dict[str, Any]:\n",
    "    query = {\n",
    "        \"size\": 10000,\n",
    "        \"_source\": [\n",
    "            \"metadata.source.metadata.paper_id\",\n",
    "            \"metadata.source.metadata.base_date\",\n",
    "        ],\n",
    "    }\n",
    "\n",
    "    result = client.client.search(index=client.index, body=query)\n",
    "\n",
    "    paper_ids_by_date = {}\n",
    "    for hit in result.get(\"hits\", {}).get(\"hits\", []):\n",
    "        source = hit.get(\"_source\", {})\n",
    "        metadata = source.get(\"metadata\", {}).get(\"source\", {}).get(\"metadata\", {})\n",
    "\n",
    "        date = metadata.get(\"base_date\")\n",
    "        paper_id = metadata.get(\"paper_id\")\n",
    "\n",
    "        if date and paper_id:\n",
    "            if date not in paper_ids_by_date:\n",
    "                paper_ids_by_date[date] = set()\n",
    "            paper_ids_by_date[date].add(paper_id)\n",
    "\n",
    "    date_counts = {\n",
    "        date: len(paper_ids) for date, paper_ids in paper_ids_by_date.items()\n",
    "    }\n",
    "\n",
    "    sorted_date_counts = [{k: date_counts[k]} for k in sorted(date_counts.keys())]\n",
    "\n",
    "    return sorted_date_counts"
   ]
  },
  {
   "cell_type": "code",
   "execution_count": 40,
   "id": "c79d099e",
   "metadata": {},
   "outputs": [
    {
     "name": "stdout",
     "output_type": "stream",
     "text": [
      "[{'2025-02-10': 3},\n",
      " {'2025-02-11': 3},\n",
      " {'2025-02-12': 3},\n",
      " {'2025-02-13': 3},\n",
      " {'2025-02-14': 3},\n",
      " {'2025-02-17': 3},\n",
      " {'2025-02-18': 3},\n",
      " {'2025-02-19': 3},\n",
      " {'2025-02-20': 2},\n",
      " {'2025-02-21': 3},\n",
      " {'2025-02-24': 3},\n",
      " {'2025-02-25': 3},\n",
      " {'2025-02-26': 3},\n",
      " {'2025-02-27': 3},\n",
      " {'2025-02-28': 3},\n",
      " {'2025-03-03': 3},\n",
      " {'2025-03-04': 3},\n",
      " {'2025-03-05': 3},\n",
      " {'2025-03-06': 3},\n",
      " {'2025-03-07': 3},\n",
      " {'2025-03-09': 2}]\n",
      "[{'2025-02-10': 3},\n",
      " {'2025-02-11': 3},\n",
      " {'2025-02-12': 3},\n",
      " {'2025-02-13': 3},\n",
      " {'2025-02-14': 3},\n",
      " {'2025-02-17': 3},\n",
      " {'2025-02-18': 3},\n",
      " {'2025-02-19': 3},\n",
      " {'2025-02-20': 2},\n",
      " {'2025-02-21': 3},\n",
      " {'2025-02-24': 3},\n",
      " {'2025-02-25': 3},\n",
      " {'2025-02-26': 3},\n",
      " {'2025-02-27': 3},\n",
      " {'2025-02-28': 3},\n",
      " {'2025-03-03': 3},\n",
      " {'2025-03-04': 3},\n",
      " {'2025-03-05': 3},\n",
      " {'2025-03-06': 3},\n",
      " {'2025-03-07': 3},\n",
      " {'2025-03-09': 2}]\n"
     ]
    }
   ],
   "source": [
    "pprint(get_paper_id_count_by_date(open_search_clients[0]))\n",
    "pprint(get_paper_id_count_by_date(open_search_clients[1]))"
   ]
  },
  {
   "cell_type": "code",
   "execution_count": null,
   "id": "c2d58983",
   "metadata": {},
   "outputs": [],
   "source": [
    "# Query to show all edge labels in the graph\n",
    "edge_labels_query = \"\"\"\n",
    "g.E().label().dedup().fold()\n",
    "\"\"\"\n",
    "\n",
    "edge_labels_result = neptune_client.client.submit(edge_labels_query).all().result()\n",
    "print(\"All edge labels in the graph:\")\n",
    "print(edge_labels_result)\n",
    "\n",
    "# Query to show incoming and outgoing edge labels for Topic nodes\n",
    "topic_edge_labels_query = \"\"\"\n",
    "g.V().hasLabel('__Topic__').limit(1)\n",
    ".project('node_id', 'incoming_edges', 'outgoing_edges')\n",
    ".by(id())\n",
    ".by(__.inE().label().dedup().fold())\n",
    ".by(__.outE().label().dedup().fold())\n",
    "\"\"\"\n",
    "\n",
    "topic_edge_labels_result = (\n",
    "    neptune_client.client.submit(topic_edge_labels_query).all().result()\n",
    ")\n",
    "print(\"\\nEdge labels for Topic nodes:\")\n",
    "print(\n",
    "    f\"Incoming edges: {topic_edge_labels_result[0]['incoming_edges'] if topic_edge_labels_result else []}\"\n",
    ")\n",
    "print(\n",
    "    f\"Outgoing edges: {topic_edge_labels_result[0]['outgoing_edges'] if topic_edge_labels_result else []}\"\n",
    ")"
   ]
  },
  {
   "cell_type": "code",
   "execution_count": null,
   "id": "e4fb7765",
   "metadata": {},
   "outputs": [],
   "source": [
    "base_date = \"2025-03-01\"\n",
    "query = f\"\"\"\n",
    "g.V().hasLabel('__Source__').has('base_date', '{base_date}')\n",
    "            .values('paper_id').dedup().fold()\n",
    "\"\"\"\n",
    "a = neptune_client.client.submit(statements_query).all().result()"
   ]
  },
  {
   "cell_type": "code",
   "execution_count": null,
   "id": "7b0a375c",
   "metadata": {},
   "outputs": [],
   "source": [
    "a"
   ]
  },
  {
   "cell_type": "code",
   "execution_count": null,
   "id": "6f02f14c",
   "metadata": {},
   "outputs": [],
   "source": [
    "statements_query = \"\"\"\n",
    "            g.V().has('__Source__', 'paper_id', '{paper_id}')\n",
    "            .in('__FROM_SOURCE__').hasLabel('__Topic__')\n",
    "            .in('__FROM_TOPIC__').hasLabel('__Statement__').dedup().fold()\n",
    "            \"\"\"\n",
    "\n",
    "statements_result = neptune_client.client.submit(statements_query).all().result()"
   ]
  },
  {
   "cell_type": "code",
   "execution_count": null,
   "id": "39aaefd0",
   "metadata": {},
   "outputs": [],
   "source": [
    "identification_result"
   ]
  },
  {
   "cell_type": "code",
   "execution_count": null,
   "id": "bca698bb",
   "metadata": {},
   "outputs": [],
   "source": [
    "orphaned_facts_query = \"\"\"\n",
    "g.V().has('__Source__', 'paper_id', '{paper_id}')\n",
    ".in('__FROM_SOURCE__').hasLabel('__Topic__')\n",
    ".in('__FROM_TOPIC__').hasLabel('__Statement__').dedup()\n",
    ".in('__SUPPORTS__').hasLabel('__Fact__')\n",
    ".filter(__.out('__SUPPORTS__').not(\n",
    "    __.until(__.not(__.in('__FROM_TOPIC__').in('__FROM_SOURCE__').has('__Source__', 'paper_id', '{paper_id}')))\n",
    "    .repeat(__.identity())\n",
    "    .count().is(0)\n",
    "))\n",
    ".dedup().fold()\n",
    "\"\"\"\n",
    "\n",
    "orphaned_facts_result = (\n",
    "    neptune_client.client.submit(orphaned_facts_query).all().result()\n",
    ")"
   ]
  },
  {
   "cell_type": "code",
   "execution_count": null,
   "id": "c0f7aec5",
   "metadata": {},
   "outputs": [],
   "source": [
    "orphaned_entities_query = \"\"\"\n",
    "g.V().has('__Source__', 'paper_id', '{paper_id}')\n",
    ".in('__FROM_SOURCE__').hasLabel('__Topic__')\n",
    ".in('__FROM_TOPIC__').hasLabel('__Statement__').dedup()\n",
    ".in('__SUPPORTS__').hasLabel('__Fact__')\n",
    "// Only include facts where ALL supported statements are from this source\n",
    ".filter(__.out('__SUPPORTS__').not(\n",
    "    __.until(__.not(__.in('__FROM_TOPIC__').in('__FROM_SOURCE__').has('__Source__', 'paper_id', '{paper_id}')))\n",
    "    .repeat(__.identity())\n",
    "    .count().is(0)\n",
    "))\n",
    "// Get connected entities\n",
    ".project('subject_entities', 'object_entities')\n",
    ".by(__.out('__SUBJECT__').hasLabel('__Entity__')\n",
    "    // Only include entities that would become orphaned\n",
    "    .filter(__.in('__SUBJECT__', '__OBJECT__')\n",
    "            .not(__.hasLabel('__Fact__').not(\n",
    "                // Filter to only include facts we're NOT deleting\n",
    "                __.until(__.in('__SUPPORTS__').in('__FROM_TOPIC__').in('__FROM_SOURCE__').has('__Source__', 'paper_id', '{paper_id}'))\n",
    "                .repeat(__.identity())\n",
    "                .count().is(0)\n",
    "            ))\n",
    "            .count().is(0)\n",
    "    ).fold())\n",
    ".by(__.out('__OBJECT__').hasLabel('__Entity__')\n",
    "    // Only include entities that would become orphaned\n",
    "    .filter(__.in('__SUBJECT__', '__OBJECT__')\n",
    "            .not(__.hasLabel('__Fact__').not(\n",
    "                // Filter to only include facts we're NOT deleting\n",
    "                __.until(__.in('__SUPPORTS__').in('__FROM_TOPIC__').in('__FROM_SOURCE__').has('__Source__', 'paper_id', '{paper_id}'))\n",
    "                .repeat(__.identity())\n",
    "                .count().is(0)\n",
    "            ))\n",
    "            .count().is(0)\n",
    "    ).fold())\n",
    "\"\"\"\n",
    "\n",
    "orphaned_entities_result = (\n",
    "    neptune_client.client.submit(orphaned_entities_query).all().result()\n",
    ")"
   ]
  },
  {
   "cell_type": "code",
   "execution_count": null,
   "id": "6c924b37",
   "metadata": {},
   "outputs": [],
   "source": [
    "statements_result"
   ]
  },
  {
   "cell_type": "code",
   "execution_count": null,
   "id": "a3efdda9",
   "metadata": {},
   "outputs": [],
   "source": [
    "# 특정 paper_id를 가진 노드 찾기\n",
    "paper_id = \"2502.18417\"\n",
    "query = f\"g.V().has('paper_id', '{paper_id}').valueMap(true)\"\n",
    "\n",
    "print(f\"Searching for nodes with paper_id = {paper_id}\")\n",
    "result = neptune_client.client.submit_async(query).result()\n",
    "\n",
    "# 결과 확인\n",
    "nodes = list(result)\n",
    "if nodes:\n",
    "    print(f\"Found {len(nodes)} nodes with paper_id = {paper_id}:\")\n",
    "    for node in nodes:\n",
    "        print(node)\n",
    "else:\n",
    "    print(f\"No nodes found with paper_id = {paper_id}\")"
   ]
  },
  {
   "cell_type": "code",
   "execution_count": null,
   "id": "3bd636d2",
   "metadata": {},
   "outputs": [],
   "source": [
    "# paper_id가 \"2502.18417\"인 노드 ID 찾기\n",
    "paper_id = \"2502.18417\"\n",
    "find_nodes_query = f\"g.V().has('paper_id', '{paper_id}').id()\"\n",
    "paper_nodes_result = neptune_client.client.submit_async(find_nodes_query).result()\n",
    "paper_nodes = list(paper_nodes_result)\n",
    "\n",
    "if paper_nodes:\n",
    "    print(f\"Found {len(paper_nodes)} nodes with paper_id = {paper_id}:\")\n",
    "\n",
    "    # 각 노드에 대해 참조하는 노드들 찾기\n",
    "    for node_id in paper_nodes:\n",
    "        print(f\"Node ID: {node_id}\")\n",
    "\n",
    "        try:\n",
    "            # 이 노드를 참조하는 노드들 (incoming edges)\n",
    "            # Fix the query to properly escape the node_id\n",
    "            referencing_query = f'g.V(\"{node_id}\").in().valueMap(true)'\n",
    "            referencing_result = neptune_client.client.submit_async(\n",
    "                referencing_query\n",
    "            ).result()\n",
    "            referencing_nodes = list(referencing_result)\n",
    "\n",
    "            print(\n",
    "                f\"  Nodes referencing this node (incoming edges): {len(referencing_nodes)}\"\n",
    "            )\n",
    "            for ref_node in referencing_nodes:\n",
    "                print(f\"  {ref_node}\")\n",
    "        except Exception as e:\n",
    "            print(f\"  Error querying references for node {node_id}: {str(e)}\")\n",
    "else:\n",
    "    print(f\"No nodes found with paper_id = {paper_id}\")"
   ]
  },
  {
   "cell_type": "code",
   "execution_count": null,
   "id": "44dee1c8",
   "metadata": {},
   "outputs": [],
   "source": [
    "node_id"
   ]
  },
  {
   "cell_type": "code",
   "execution_count": null,
   "id": "f0ec1b91",
   "metadata": {},
   "outputs": [],
   "source": [
    "\"aws:69ef7317:c0ce\" -> __Chunk__"
   ]
  },
  {
   "cell_type": "code",
   "execution_count": null,
   "id": "e474d3ea",
   "metadata": {},
   "outputs": [],
   "source": [
    "# 특정 ID를 가진 노드와 연결된 모든 노드 조회\n",
    "# node_id = \"aws:69ef7317:c0ce\"\n",
    "# node_id = \"aws:69ef7317:c0ce:ca5702ea\"\n",
    "node_id = \"aws:69ef7317:c0ce:ca5702ea\"\n",
    "\n",
    "# 이 노드를 참조하는 노드들 (incoming edges)\n",
    "incoming_query = f\"g.V('{node_id}').in().valueMap(true)\"\n",
    "incoming_result = neptune_client.client.submit_async(incoming_query).result()\n",
    "incoming_nodes = list(incoming_result)\n",
    "\n",
    "# 이 노드가 참조하는 노드들 (outgoing edges)\n",
    "outgoing_query = f\"g.V('{node_id}').out().valueMap(true)\"\n",
    "outgoing_result = neptune_client.client.submit_async(outgoing_query).result()\n",
    "outgoing_nodes = list(outgoing_result)\n",
    "\n",
    "print(f\"Nodes referencing {node_id} (incoming edges): {len(incoming_nodes)}\")\n",
    "for node in incoming_nodes:\n",
    "    print(node)\n",
    "\n",
    "print(f\"\\nNodes referenced by {node_id} (outgoing edges): {len(outgoing_nodes)}\")\n",
    "for node in outgoing_nodes:\n",
    "    print(node)"
   ]
  },
  {
   "cell_type": "code",
   "execution_count": null,
   "id": "8318c465",
   "metadata": {},
   "outputs": [],
   "source": [
    "incoming_nodes[0]"
   ]
  },
  {
   "cell_type": "code",
   "execution_count": null,
   "id": "488b8d4d",
   "metadata": {},
   "outputs": [],
   "source": [
    "incoming_nodes"
   ]
  },
  {
   "cell_type": "code",
   "execution_count": null,
   "id": "754a2e36",
   "metadata": {},
   "outputs": [],
   "source": [
    "# aws:69ef7317:c0ce로 시작하는 모든 노드 조회\n",
    "prefix = \"aws:69ef7317:c0ce\"\n",
    "# Neptune에서는 startingWith 함수가 없음. 대신 문자열 리터럴로 처리\n",
    "query = f\"g.V().has('id', '{prefix}')\"\n",
    "\n",
    "print(f\"Searching for nodes with ID starting with '{prefix}'\")\n",
    "try:\n",
    "    result = neptune_client.client.submit_async(query).result()\n",
    "\n",
    "    # 결과 확인\n",
    "    nodes = list(result)\n",
    "    if nodes:\n",
    "        print(f\"Found {len(nodes)} nodes with ID starting with '{prefix}':\")\n",
    "        for node in nodes:\n",
    "            print(node)\n",
    "    else:\n",
    "        print(f\"No nodes found with ID starting with '{prefix}'\")\n",
    "except Exception as e:\n",
    "    print(f\"Error querying nodes: {e}\")\n",
    "\n",
    "# 특정 ID를 직접 조회하는 방식으로 변경\n",
    "print(\"\\nChecking specific node ID:\")\n",
    "specific_id = \"aws:69ef7317:c0ce:ca5702ea\"\n",
    "id_query = f\"g.V('{specific_id}')\"\n",
    "try:\n",
    "    id_result = neptune_client.client.submit_async(id_query).result()\n",
    "    node_ids = list(id_result)\n",
    "    if node_ids:\n",
    "        print(f\"Found node with ID '{specific_id}':\")\n",
    "        for node_id in node_ids:\n",
    "            print(node_id)\n",
    "    else:\n",
    "        print(f\"No node found with ID '{specific_id}'\")\n",
    "except Exception as e:\n",
    "    print(f\"Error querying node ID: {e}\")"
   ]
  },
  {
   "cell_type": "code",
   "execution_count": null,
   "id": "699e25dc",
   "metadata": {},
   "outputs": [],
   "source": [
    "# 모든 노드를 조회하는 쿼리 실행\n",
    "query = \"g.V().count()\"\n",
    "result = neptune_client.client.submit_async(query).result()\n",
    "node_count = result.one()\n",
    "print(f\"Total number of nodes in the graph: {node_count}\")\n",
    "\n",
    "# 노드 샘플 10개 조회\n",
    "# Fix the query syntax - Neptune doesn't support with_(WithOptions.tokens)\n",
    "sample_query = (\n",
    "    \"g.V().has('__Source__').valueMap(true)\"  # true parameter includes vertex labels\n",
    ")\n",
    "sample_result = neptune_client.client.submit_async(sample_query).result()\n",
    "print(\"\\nSample nodes:\")\n",
    "for node in sample_result:\n",
    "    print(node)"
   ]
  },
  {
   "cell_type": "code",
   "execution_count": null,
   "id": "bbc83efd",
   "metadata": {},
   "outputs": [],
   "source": [
    "sample_result = neptune_client.client.submit_async(sample_query).result()\n",
    "a = list(sample_result)"
   ]
  },
  {
   "cell_type": "code",
   "execution_count": null,
   "id": "54f0baaa",
   "metadata": {},
   "outputs": [],
   "source": [
    "a[0]"
   ]
  },
  {
   "cell_type": "code",
   "execution_count": null,
   "id": "486cdb95",
   "metadata": {},
   "outputs": [],
   "source": [
    "# 모든 노드를 삭제하는 쿼리 실행\n",
    "print(\"Deleting all nodes from the graph...\")\n",
    "delete_query = \"g.V().drop()\"\n",
    "result = neptune_client.client.submit_async(delete_query).result()\n",
    "print(\"All nodes have been deleted from the graph.\")\n",
    "\n",
    "# 삭제 후 노드 수 확인\n",
    "count_query = \"g.V().count()\"\n",
    "count_result = neptune_client.client.submit_async(count_query).result()\n",
    "remaining_nodes = count_result.one()\n",
    "print(f\"Remaining nodes in the graph after deletion: {remaining_nodes}\")"
   ]
  },
  {
   "cell_type": "code",
   "execution_count": null,
   "id": "abfd4d53",
   "metadata": {},
   "outputs": [],
   "source": [
    "count_query = \"g.V().count()\"\n",
    "count_result = neptune_client.client.submit_async(count_query).result()\n",
    "remaining_nodes = count_result.one()\n",
    "print(f\"Remaining nodes in the graph after deletion: {remaining_nodes}\")"
   ]
  },
  {
   "cell_type": "code",
   "execution_count": null,
   "id": "faa03ebd-cbf9-4ba5-b31b-e7c99de06fe5",
   "metadata": {},
   "outputs": [],
   "source": [
    "import boto3\n",
    "from gremlin_python.structure.graph import Graph\n",
    "from gremlin_python.process.graph_traversal import __\n",
    "from gremlin_python.process.strategies import *\n",
    "from gremlin_python.driver.driver_remote_connection import DriverRemoteConnection\n",
    "from gremlin_python.driver.aiohttp.transport import AiohttpTransport\n",
    "from gremlin_python.process.traversal import *\n",
    "from paper_bridge.indexer.configs import Config\n",
    "from paper_bridge.indexer.src import EnvVars, get_ssm_param_value, logger"
   ]
  },
  {
   "cell_type": "code",
   "execution_count": null,
   "id": "73df6fa3",
   "metadata": {},
   "outputs": [],
   "source": [
    "config = Config.load()\n",
    "profile_name = EnvVars.AWS_PROFILE_NAME.value\n",
    "boto3_session = boto3.Session(\n",
    "    region_name=config.resources.default_region_name, profile_name=profile_name\n",
    ")\n",
    "\n",
    "neptune_endpoint = get_ssm_param_value(\n",
    "    boto3_session,\n",
    "    f\"/{config.resources.project_name}-{config.resources.stage}/neptune/endpoint\",\n",
    ")\n",
    "open_search_endpoint = get_ssm_param_value(\n",
    "    boto3_session,\n",
    "    f\"/{config.resources.project_name}-{config.resources.stage}/opensearch/endpoint\",\n",
    ")\n",
    "\n",
    "print(\n",
    "    f\"Neptune endpoint: {neptune_endpoint}\\nOpenSearch endpoint: {open_search_endpoint}\"\n",
    ")"
   ]
  },
  {
   "cell_type": "code",
   "execution_count": null,
   "id": "f12b5821",
   "metadata": {},
   "outputs": [],
   "source": [
    "endpoint = f'wss://{neptune_endpoint}:8182/gremlin'\n",
    "\n",
    "graph=Graph()\n",
    "\n",
    "connection = DriverRemoteConnection(endpoint,'g',\n",
    "                 transport_factory=lambda:AiohttpTransport(call_from_event_loop=True))\n",
    "\n",
    "g = graph.traversal().withRemote(connection)\n",
    "\n",
    "results = (g.V().hasLabel('airport')\n",
    "                .sample(10)\n",
    "                .order()\n",
    "                .by('code')\n",
    "                .local(__.values('code','city').fold())\n",
    "                .toList())\n",
    "\n",
    "# Print the results in a tabular form with a row index\n",
    "for i,c in enumerate(results,1):\n",
    "    print(\"%3d %4s %s\" % (i,c[0],c[1]))\n",
    "\n",
    "connection.close()"
   ]
  },
  {
   "cell_type": "code",
   "execution_count": null,
   "id": "d890335e",
   "metadata": {},
   "outputs": [],
   "source": [
    "gremlin_client = client.Client(\n",
    "    f\"wss://{neptune_endpoint}:8182/gremlin\",\n",
    "    \"g\",\n",
    "    message_serializer=GraphSONSerializersV2d0(),\n",
    ")"
   ]
  },
  {
   "cell_type": "code",
   "execution_count": null,
   "id": "b287f707",
   "metadata": {},
   "outputs": [],
   "source": [
    "results = gremlin_client.submit(\"g.V().limit(10)\").all().result()\n",
    "print(results)"
   ]
  },
  {
   "cell_type": "code",
   "execution_count": null,
   "id": "150af2e3",
   "metadata": {},
   "outputs": [],
   "source": [
    "results = neptune_client.client.submit(\"g.V().valueMap(true)\").all().result()\n",
    "for vertex in results:\n",
    "    print(vertex)"
   ]
  },
  {
   "cell_type": "code",
   "execution_count": null,
   "id": "494c44f9",
   "metadata": {},
   "outputs": [],
   "source": [
    "query = \"\"\"\n",
    "g.V('aws:c8795c68:6054').project(\"vertex\", \"in_edges\", \"out_edges\")\n",
    "    .by(valueMap(true))\n",
    "    .by(inE().valueMap(true).fold())\n",
    "    .by(outE().valueMap(true).fold())\n",
    "\"\"\"\n",
    "\n",
    "results = gremlin_client.submit(query).all().result()\n",
    "for r in results:\n",
    "    print(\"\\nVertex:\", r[\"vertex\"])\n",
    "    print(\"Incoming edges:\", r[\"in_edges\"])\n",
    "    print(\"Outgoing edges:\", r[\"out_edges\"])"
   ]
  },
  {
   "cell_type": "code",
   "execution_count": null,
   "id": "a108e142",
   "metadata": {},
   "outputs": [],
   "source": [
    "query = \"\"\"\n",
    "g.V('223db800-9dd8-4f1b-85af-a666149fe35c0').project(\"vertex\", \"in_edges\", \"out_edges\")\n",
    "    .by(valueMap(true))\n",
    "    .by(inE().valueMap(true).fold())\n",
    "    .by(outE().valueMap(true).fold())\n",
    "\"\"\"\n",
    "\n",
    "results = gremlin_client.submit(query).all().result()\n",
    "for r in results:\n",
    "    print(\"\\nVertex:\", r[\"vertex\"])\n",
    "    print(\"Incoming edges:\", r[\"in_edges\"])\n",
    "    print(\"Outgoing edges:\", r[\"out_edges\"])"
   ]
  },
  {
   "cell_type": "code",
   "execution_count": null,
   "id": "e2f72f70",
   "metadata": {},
   "outputs": [],
   "source": [
    "try:\n",
    "    node_id = \"57d3d114-22a3-489f-bfac-f2ec37b722da0\"\n",
    "\n",
    "    # 모든 속성 조회 (숨겨진 속성 포함)\n",
    "    query = f\"\"\"\n",
    "    g.V('{node_id}')\n",
    "        .project('properties', 'hidden_properties')\n",
    "        .by(valueMap())\n",
    "        .by(properties().key().dedup())\n",
    "    \"\"\"\n",
    "\n",
    "    result = gremlin_client.submit(query).all().result()\n",
    "    print(\"All properties:\", result)\n",
    "\n",
    "    # 메타데이터 속성도 조회\n",
    "    meta_query = f\"\"\"\n",
    "    g.V('{node_id}')\n",
    "        .elementMap()\n",
    "    \"\"\"\n",
    "\n",
    "    meta_result = gremlin_client.submit(meta_query).all().result()\n",
    "    print(\"\\nWith metadata:\", meta_result)\n",
    "\n",
    "except Exception as e:\n",
    "    print(f\"Error occurred: {str(e)}\")"
   ]
  },
  {
   "cell_type": "code",
   "execution_count": null,
   "id": "ac056c87",
   "metadata": {},
   "outputs": [],
   "source": [
    "query = \"g.V().has('paper_id', '2502.14502').valueMap(true)\"\n",
    "result = gremlin_client.submit(query).all().result()\n",
    "print(\"Node properties:\", result)"
   ]
  },
  {
   "cell_type": "code",
   "execution_count": null,
   "id": "8dd9d4c9-85b9-4338-aeac-5d3a9e515dcb",
   "metadata": {},
   "outputs": [],
   "source": [
    "\n",
    "\n",
    "# Neptune 엔드포인트에 연결\n",
    "connection = DriverRemoteConnection('wss://your-neptune-endpoint:8182/gremlin','g')\n",
    "g = traversal().withRemote(connection)\n",
    "\n",
    "# 데이터 조회 예시\n",
    "# 모든 버텍스 조회\n",
    "results = g.V().toList()\n",
    "\n",
    "# 특정 레이블의 버텍스 조회\n",
    "results = g.V().hasLabel('person').toList()"
   ]
  },
  {
   "cell_type": "code",
   "execution_count": null,
   "id": "1527b7d2",
   "metadata": {},
   "outputs": [],
   "source": [
    "try:\n",
    "    # 모든 vertex와 edge 삭제\n",
    "    query = \"g.V().drop()\"\n",
    "    result = neptune_client.client.submit(query).all().result()\n",
    "    print(\"All data has been deleted\")\n",
    "\n",
    "    # 확인을 위해 vertex 수 조회\n",
    "    count_query = \"g.V().count()\"\n",
    "    count = neptune_client.client.submit(count_query).all().result()\n",
    "    print(f\"Remaining vertices: {count}\")\n",
    "\n",
    "except Exception as e:\n",
    "    print(f\"Error occurred: {str(e)}\")"
   ]
  }
 ],
 "metadata": {
  "kernelspec": {
   "display_name": "Python 3 (ipykernel)",
   "language": "python",
   "name": "python3"
  },
  "language_info": {
   "codemirror_mode": {
    "name": "ipython",
    "version": 3
   },
   "file_extension": ".py",
   "mimetype": "text/x-python",
   "name": "python",
   "nbconvert_exporter": "python",
   "pygments_lexer": "ipython3",
   "version": "3.11.11"
  }
 },
 "nbformat": 4,
 "nbformat_minor": 5
}
