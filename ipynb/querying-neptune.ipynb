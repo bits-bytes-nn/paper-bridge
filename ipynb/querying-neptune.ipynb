{
 "cells": [
  {
   "cell_type": "code",
   "execution_count": 2,
   "id": "e569ed81-662c-46f8-b7de-c49c7a2ae906",
   "metadata": {},
   "outputs": [
    {
     "name": "stdout",
     "output_type": "stream",
     "text": [
      "The autoreload extension is already loaded. To reload it, use:\n",
      "  %reload_ext autoreload\n",
      "The jupyter_black extension is already loaded. To reload it, use:\n",
      "  %reload_ext jupyter_black\n"
     ]
    }
   ],
   "source": [
    "%load_ext autoreload\n",
    "%autoreload 2\n",
    "%load_ext jupyter_black"
   ]
  },
  {
   "cell_type": "code",
   "execution_count": 20,
   "id": "faa03ebd-cbf9-4ba5-b31b-e7c99de06fe5",
   "metadata": {},
   "outputs": [],
   "source": [
    "import boto3\n",
    "from gremlin_python.driver.driver_remote_connection import DriverRemoteConnection\n",
    "from gremlin_python.process.graph_traversal import GraphTraversalSource\n",
    "from gremlin_python.structure.graph import Graph\n",
    "from paper_bridge.indexer.configs import Config\n",
    "from paper_bridge.indexer.src import EnvVars, get_ssm_param_value, logger"
   ]
  },
  {
   "cell_type": "code",
   "execution_count": 21,
   "id": "73df6fa3",
   "metadata": {},
   "outputs": [
    {
     "name": "stderr",
     "output_type": "stream",
     "text": [
      "2025-02-22 20:28:34,999 - INFO - Neptune endpoint: paper-bridge-dev-cluster.cluster-cyq3catzzgsc.us-west-2.neptune.amazonaws.com\n",
      "INFO:paper_bridge.indexer.src.logger:Neptune endpoint: paper-bridge-dev-cluster.cluster-cyq3catzzgsc.us-west-2.neptune.amazonaws.com\n"
     ]
    }
   ],
   "source": [
    "config = Config.load()\n",
    "profile_name = EnvVars.AWS_PROFILE_NAME.value\n",
    "boto3_session = boto3.Session(\n",
    "    region_name=config.resources.default_region_name, profile_name=profile_name\n",
    ")\n",
    "\n",
    "endpoint = get_ssm_param_value(\n",
    "    boto3_session,\n",
    "    f\"/{config.resources.project_name}-{config.resources.stage}/neptune/endpoint\",\n",
    ")\n",
    "\n",
    "logger.info(f\"Neptune endpoint: {endpoint}\")"
   ]
  },
  {
   "cell_type": "code",
   "execution_count": 22,
   "id": "d890335e",
   "metadata": {},
   "outputs": [],
   "source": [
    "connection = DriverRemoteConnection(f\"wss://{endpoint}:8182/gremlin\", \"g\")\n",
    "g = GraphTraversalSource(Graph(), connection)"
   ]
  },
  {
   "cell_type": "code",
   "execution_count": 24,
   "id": "ac056c87",
   "metadata": {},
   "outputs": [
    {
     "ename": "AttributeError",
     "evalue": "'DriverRemoteConnection' object has no attribute 'apply_strategies'",
     "output_type": "error",
     "traceback": [
      "\u001b[0;31m---------------------------------------------------------------------------\u001b[0m",
      "\u001b[0;31mAttributeError\u001b[0m                            Traceback (most recent call last)",
      "Cell \u001b[0;32mIn[24], line 1\u001b[0m\n\u001b[0;32m----> 1\u001b[0m results \u001b[38;5;241m=\u001b[39m \u001b[43mg\u001b[49m\u001b[38;5;241;43m.\u001b[39;49m\u001b[43mV\u001b[49m\u001b[43m(\u001b[49m\u001b[43m)\u001b[49m\u001b[38;5;241;43m.\u001b[39;49m\u001b[43mnext\u001b[49m\u001b[43m(\u001b[49m\u001b[43m)\u001b[49m\n",
      "File \u001b[0;32m~/Library/Caches/pypoetry/virtualenvs/paper-bridge-PAO9SI1a-py3.11/lib/python3.11/site-packages/gremlin_python/process/traversal.py:117\u001b[0m, in \u001b[0;36mTraversal.next\u001b[0;34m(self, amount)\u001b[0m\n\u001b[1;32m    115\u001b[0m \u001b[38;5;28;01mdef\u001b[39;00m\u001b[38;5;250m \u001b[39m\u001b[38;5;21mnext\u001b[39m(\u001b[38;5;28mself\u001b[39m, amount\u001b[38;5;241m=\u001b[39m\u001b[38;5;28;01mNone\u001b[39;00m):\n\u001b[1;32m    116\u001b[0m     \u001b[38;5;28;01mif\u001b[39;00m amount \u001b[38;5;129;01mis\u001b[39;00m \u001b[38;5;28;01mNone\u001b[39;00m:\n\u001b[0;32m--> 117\u001b[0m         \u001b[38;5;28;01mreturn\u001b[39;00m \u001b[38;5;28;43mself\u001b[39;49m\u001b[38;5;241;43m.\u001b[39;49m\u001b[38;5;21;43m__next__\u001b[39;49m\u001b[43m(\u001b[49m\u001b[43m)\u001b[49m\n\u001b[1;32m    118\u001b[0m     \u001b[38;5;28;01melse\u001b[39;00m:\n\u001b[1;32m    119\u001b[0m         count \u001b[38;5;241m=\u001b[39m \u001b[38;5;241m0\u001b[39m\n",
      "File \u001b[0;32m~/Library/Caches/pypoetry/virtualenvs/paper-bridge-PAO9SI1a-py3.11/lib/python3.11/site-packages/gremlin_python/process/traversal.py:48\u001b[0m, in \u001b[0;36mTraversal.__next__\u001b[0;34m(self)\u001b[0m\n\u001b[1;32m     46\u001b[0m \u001b[38;5;28;01mdef\u001b[39;00m\u001b[38;5;250m \u001b[39m\u001b[38;5;21m__next__\u001b[39m(\u001b[38;5;28mself\u001b[39m):\n\u001b[1;32m     47\u001b[0m     \u001b[38;5;28;01mif\u001b[39;00m \u001b[38;5;28mself\u001b[39m\u001b[38;5;241m.\u001b[39mtraversers \u001b[38;5;129;01mis\u001b[39;00m \u001b[38;5;28;01mNone\u001b[39;00m:\n\u001b[0;32m---> 48\u001b[0m         \u001b[38;5;28;43mself\u001b[39;49m\u001b[38;5;241;43m.\u001b[39;49m\u001b[43mtraversal_strategies\u001b[49m\u001b[38;5;241;43m.\u001b[39;49m\u001b[43mapply_strategies\u001b[49m(\u001b[38;5;28mself\u001b[39m)\n\u001b[1;32m     49\u001b[0m     \u001b[38;5;28;01mif\u001b[39;00m \u001b[38;5;28mself\u001b[39m\u001b[38;5;241m.\u001b[39mlast_traverser \u001b[38;5;129;01mis\u001b[39;00m \u001b[38;5;28;01mNone\u001b[39;00m:\n\u001b[1;32m     50\u001b[0m         \u001b[38;5;28mself\u001b[39m\u001b[38;5;241m.\u001b[39mlast_traverser \u001b[38;5;241m=\u001b[39m \u001b[38;5;28mnext\u001b[39m(\u001b[38;5;28mself\u001b[39m\u001b[38;5;241m.\u001b[39mtraversers)\n",
      "\u001b[0;31mAttributeError\u001b[0m: 'DriverRemoteConnection' object has no attribute 'apply_strategies'"
     ]
    }
   ],
   "source": [
    "results = g.V().next()"
   ]
  },
  {
   "cell_type": "code",
   "execution_count": null,
   "id": "8dd9d4c9-85b9-4338-aeac-5d3a9e515dcb",
   "metadata": {},
   "outputs": [],
   "source": [
    "\n",
    "\n",
    "# Neptune 엔드포인트에 연결\n",
    "connection = DriverRemoteConnection('wss://your-neptune-endpoint:8182/gremlin','g')\n",
    "g = traversal().withRemote(connection)\n",
    "\n",
    "# 데이터 조회 예시\n",
    "# 모든 버텍스 조회\n",
    "results = g.V().toList()\n",
    "\n",
    "# 특정 레이블의 버텍스 조회\n",
    "results = g.V().hasLabel('person').toList()"
   ]
  }
 ],
 "metadata": {
  "kernelspec": {
   "display_name": "paper-bridge-PAO9SI1a-py3.11",
   "language": "python",
   "name": "python3"
  },
  "language_info": {
   "codemirror_mode": {
    "name": "ipython",
    "version": 3
   },
   "file_extension": ".py",
   "mimetype": "text/x-python",
   "name": "python",
   "nbconvert_exporter": "python",
   "pygments_lexer": "ipython3",
   "version": "3.11.11"
  }
 },
 "nbformat": 4,
 "nbformat_minor": 5
}
